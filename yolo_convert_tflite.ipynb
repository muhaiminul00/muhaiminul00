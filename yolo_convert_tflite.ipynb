{
  "nbformat": 4,
  "nbformat_minor": 0,
  "metadata": {
    "colab": {
      "provenance": [],
      "gpuType": "T4",
      "include_colab_link": true
    },
    "kernelspec": {
      "name": "python3",
      "display_name": "Python 3"
    },
    "language_info": {
      "name": "python"
    },
    "accelerator": "GPU"
  },
  "cells": [
    {
      "cell_type": "markdown",
      "metadata": {
        "id": "view-in-github",
        "colab_type": "text"
      },
      "source": [
        "<a href=\"https://colab.research.google.com/github/muhaiminul00/muhaiminul00/blob/main/yolo_convert_tflite.ipynb\" target=\"_parent\"><img src=\"https://colab.research.google.com/assets/colab-badge.svg\" alt=\"Open In Colab\"/></a>"
      ]
    },
    {
      "cell_type": "code",
      "execution_count": 1,
      "metadata": {
        "colab": {
          "base_uri": "https://localhost:8080/"
        },
        "id": "qCQqrgf9z-5K",
        "outputId": "0183a403-8224-4e72-cae7-b4c17531930b"
      },
      "outputs": [
        {
          "output_type": "stream",
          "name": "stdout",
          "text": [
            "/content\n"
          ]
        }
      ],
      "source": [
        "import os\n",
        "HOME = os.getcwd()\n",
        "print(HOME)"
      ]
    },
    {
      "cell_type": "code",
      "source": [
        "!pip install ultralytics"
      ],
      "metadata": {
        "colab": {
          "base_uri": "https://localhost:8080/"
        },
        "id": "TSGiXjc70FNh",
        "outputId": "3a26b813-28fe-43ff-b46a-1ed346be0136"
      },
      "execution_count": 2,
      "outputs": [
        {
          "output_type": "stream",
          "name": "stdout",
          "text": [
            "Collecting ultralytics\n",
            "  Downloading ultralytics-8.3.140-py3-none-any.whl.metadata (37 kB)\n",
            "Requirement already satisfied: numpy>=1.23.0 in /usr/local/lib/python3.11/dist-packages (from ultralytics) (2.0.2)\n",
            "Requirement already satisfied: matplotlib>=3.3.0 in /usr/local/lib/python3.11/dist-packages (from ultralytics) (3.10.0)\n",
            "Requirement already satisfied: opencv-python>=4.6.0 in /usr/local/lib/python3.11/dist-packages (from ultralytics) (4.11.0.86)\n",
            "Requirement already satisfied: pillow>=7.1.2 in /usr/local/lib/python3.11/dist-packages (from ultralytics) (11.2.1)\n",
            "Requirement already satisfied: pyyaml>=5.3.1 in /usr/local/lib/python3.11/dist-packages (from ultralytics) (6.0.2)\n",
            "Requirement already satisfied: requests>=2.23.0 in /usr/local/lib/python3.11/dist-packages (from ultralytics) (2.32.3)\n",
            "Requirement already satisfied: scipy>=1.4.1 in /usr/local/lib/python3.11/dist-packages (from ultralytics) (1.15.3)\n",
            "Requirement already satisfied: torch>=1.8.0 in /usr/local/lib/python3.11/dist-packages (from ultralytics) (2.6.0+cu124)\n",
            "Requirement already satisfied: torchvision>=0.9.0 in /usr/local/lib/python3.11/dist-packages (from ultralytics) (0.21.0+cu124)\n",
            "Requirement already satisfied: tqdm>=4.64.0 in /usr/local/lib/python3.11/dist-packages (from ultralytics) (4.67.1)\n",
            "Requirement already satisfied: psutil in /usr/local/lib/python3.11/dist-packages (from ultralytics) (5.9.5)\n",
            "Requirement already satisfied: py-cpuinfo in /usr/local/lib/python3.11/dist-packages (from ultralytics) (9.0.0)\n",
            "Requirement already satisfied: pandas>=1.1.4 in /usr/local/lib/python3.11/dist-packages (from ultralytics) (2.2.2)\n",
            "Collecting ultralytics-thop>=2.0.0 (from ultralytics)\n",
            "  Downloading ultralytics_thop-2.0.14-py3-none-any.whl.metadata (9.4 kB)\n",
            "Requirement already satisfied: contourpy>=1.0.1 in /usr/local/lib/python3.11/dist-packages (from matplotlib>=3.3.0->ultralytics) (1.3.2)\n",
            "Requirement already satisfied: cycler>=0.10 in /usr/local/lib/python3.11/dist-packages (from matplotlib>=3.3.0->ultralytics) (0.12.1)\n",
            "Requirement already satisfied: fonttools>=4.22.0 in /usr/local/lib/python3.11/dist-packages (from matplotlib>=3.3.0->ultralytics) (4.58.0)\n",
            "Requirement already satisfied: kiwisolver>=1.3.1 in /usr/local/lib/python3.11/dist-packages (from matplotlib>=3.3.0->ultralytics) (1.4.8)\n",
            "Requirement already satisfied: packaging>=20.0 in /usr/local/lib/python3.11/dist-packages (from matplotlib>=3.3.0->ultralytics) (24.2)\n",
            "Requirement already satisfied: pyparsing>=2.3.1 in /usr/local/lib/python3.11/dist-packages (from matplotlib>=3.3.0->ultralytics) (3.2.3)\n",
            "Requirement already satisfied: python-dateutil>=2.7 in /usr/local/lib/python3.11/dist-packages (from matplotlib>=3.3.0->ultralytics) (2.9.0.post0)\n",
            "Requirement already satisfied: pytz>=2020.1 in /usr/local/lib/python3.11/dist-packages (from pandas>=1.1.4->ultralytics) (2025.2)\n",
            "Requirement already satisfied: tzdata>=2022.7 in /usr/local/lib/python3.11/dist-packages (from pandas>=1.1.4->ultralytics) (2025.2)\n",
            "Requirement already satisfied: charset-normalizer<4,>=2 in /usr/local/lib/python3.11/dist-packages (from requests>=2.23.0->ultralytics) (3.4.2)\n",
            "Requirement already satisfied: idna<4,>=2.5 in /usr/local/lib/python3.11/dist-packages (from requests>=2.23.0->ultralytics) (3.10)\n",
            "Requirement already satisfied: urllib3<3,>=1.21.1 in /usr/local/lib/python3.11/dist-packages (from requests>=2.23.0->ultralytics) (2.4.0)\n",
            "Requirement already satisfied: certifi>=2017.4.17 in /usr/local/lib/python3.11/dist-packages (from requests>=2.23.0->ultralytics) (2025.4.26)\n",
            "Requirement already satisfied: filelock in /usr/local/lib/python3.11/dist-packages (from torch>=1.8.0->ultralytics) (3.18.0)\n",
            "Requirement already satisfied: typing-extensions>=4.10.0 in /usr/local/lib/python3.11/dist-packages (from torch>=1.8.0->ultralytics) (4.13.2)\n",
            "Requirement already satisfied: networkx in /usr/local/lib/python3.11/dist-packages (from torch>=1.8.0->ultralytics) (3.4.2)\n",
            "Requirement already satisfied: jinja2 in /usr/local/lib/python3.11/dist-packages (from torch>=1.8.0->ultralytics) (3.1.6)\n",
            "Requirement already satisfied: fsspec in /usr/local/lib/python3.11/dist-packages (from torch>=1.8.0->ultralytics) (2025.3.2)\n",
            "Collecting nvidia-cuda-nvrtc-cu12==12.4.127 (from torch>=1.8.0->ultralytics)\n",
            "  Downloading nvidia_cuda_nvrtc_cu12-12.4.127-py3-none-manylinux2014_x86_64.whl.metadata (1.5 kB)\n",
            "Collecting nvidia-cuda-runtime-cu12==12.4.127 (from torch>=1.8.0->ultralytics)\n",
            "  Downloading nvidia_cuda_runtime_cu12-12.4.127-py3-none-manylinux2014_x86_64.whl.metadata (1.5 kB)\n",
            "Collecting nvidia-cuda-cupti-cu12==12.4.127 (from torch>=1.8.0->ultralytics)\n",
            "  Downloading nvidia_cuda_cupti_cu12-12.4.127-py3-none-manylinux2014_x86_64.whl.metadata (1.6 kB)\n",
            "Collecting nvidia-cudnn-cu12==9.1.0.70 (from torch>=1.8.0->ultralytics)\n",
            "  Downloading nvidia_cudnn_cu12-9.1.0.70-py3-none-manylinux2014_x86_64.whl.metadata (1.6 kB)\n",
            "Collecting nvidia-cublas-cu12==12.4.5.8 (from torch>=1.8.0->ultralytics)\n",
            "  Downloading nvidia_cublas_cu12-12.4.5.8-py3-none-manylinux2014_x86_64.whl.metadata (1.5 kB)\n",
            "Collecting nvidia-cufft-cu12==11.2.1.3 (from torch>=1.8.0->ultralytics)\n",
            "  Downloading nvidia_cufft_cu12-11.2.1.3-py3-none-manylinux2014_x86_64.whl.metadata (1.5 kB)\n",
            "Collecting nvidia-curand-cu12==10.3.5.147 (from torch>=1.8.0->ultralytics)\n",
            "  Downloading nvidia_curand_cu12-10.3.5.147-py3-none-manylinux2014_x86_64.whl.metadata (1.5 kB)\n",
            "Collecting nvidia-cusolver-cu12==11.6.1.9 (from torch>=1.8.0->ultralytics)\n",
            "  Downloading nvidia_cusolver_cu12-11.6.1.9-py3-none-manylinux2014_x86_64.whl.metadata (1.6 kB)\n",
            "Collecting nvidia-cusparse-cu12==12.3.1.170 (from torch>=1.8.0->ultralytics)\n",
            "  Downloading nvidia_cusparse_cu12-12.3.1.170-py3-none-manylinux2014_x86_64.whl.metadata (1.6 kB)\n",
            "Requirement already satisfied: nvidia-cusparselt-cu12==0.6.2 in /usr/local/lib/python3.11/dist-packages (from torch>=1.8.0->ultralytics) (0.6.2)\n",
            "Requirement already satisfied: nvidia-nccl-cu12==2.21.5 in /usr/local/lib/python3.11/dist-packages (from torch>=1.8.0->ultralytics) (2.21.5)\n",
            "Requirement already satisfied: nvidia-nvtx-cu12==12.4.127 in /usr/local/lib/python3.11/dist-packages (from torch>=1.8.0->ultralytics) (12.4.127)\n",
            "Collecting nvidia-nvjitlink-cu12==12.4.127 (from torch>=1.8.0->ultralytics)\n",
            "  Downloading nvidia_nvjitlink_cu12-12.4.127-py3-none-manylinux2014_x86_64.whl.metadata (1.5 kB)\n",
            "Requirement already satisfied: triton==3.2.0 in /usr/local/lib/python3.11/dist-packages (from torch>=1.8.0->ultralytics) (3.2.0)\n",
            "Requirement already satisfied: sympy==1.13.1 in /usr/local/lib/python3.11/dist-packages (from torch>=1.8.0->ultralytics) (1.13.1)\n",
            "Requirement already satisfied: mpmath<1.4,>=1.1.0 in /usr/local/lib/python3.11/dist-packages (from sympy==1.13.1->torch>=1.8.0->ultralytics) (1.3.0)\n",
            "Requirement already satisfied: six>=1.5 in /usr/local/lib/python3.11/dist-packages (from python-dateutil>=2.7->matplotlib>=3.3.0->ultralytics) (1.17.0)\n",
            "Requirement already satisfied: MarkupSafe>=2.0 in /usr/local/lib/python3.11/dist-packages (from jinja2->torch>=1.8.0->ultralytics) (3.0.2)\n",
            "Downloading ultralytics-8.3.140-py3-none-any.whl (1.0 MB)\n",
            "\u001b[2K   \u001b[90m━━━━━━━━━━━━━━━━━━━━━━━━━━━━━━━━━━━━━━━━\u001b[0m \u001b[32m1.0/1.0 MB\u001b[0m \u001b[31m10.9 MB/s\u001b[0m eta \u001b[36m0:00:00\u001b[0m\n",
            "\u001b[?25hDownloading nvidia_cublas_cu12-12.4.5.8-py3-none-manylinux2014_x86_64.whl (363.4 MB)\n",
            "\u001b[2K   \u001b[90m━━━━━━━━━━━━━━━━━━━━━━━━━━━━━━━━━━━━━━━━\u001b[0m \u001b[32m363.4/363.4 MB\u001b[0m \u001b[31m4.7 MB/s\u001b[0m eta \u001b[36m0:00:00\u001b[0m\n",
            "\u001b[?25hDownloading nvidia_cuda_cupti_cu12-12.4.127-py3-none-manylinux2014_x86_64.whl (13.8 MB)\n",
            "\u001b[2K   \u001b[90m━━━━━━━━━━━━━━━━━━━━━━━━━━━━━━━━━━━━━━━━\u001b[0m \u001b[32m13.8/13.8 MB\u001b[0m \u001b[31m99.3 MB/s\u001b[0m eta \u001b[36m0:00:00\u001b[0m\n",
            "\u001b[?25hDownloading nvidia_cuda_nvrtc_cu12-12.4.127-py3-none-manylinux2014_x86_64.whl (24.6 MB)\n",
            "\u001b[2K   \u001b[90m━━━━━━━━━━━━━━━━━━━━━━━━━━━━━━━━━━━━━━━━\u001b[0m \u001b[32m24.6/24.6 MB\u001b[0m \u001b[31m74.6 MB/s\u001b[0m eta \u001b[36m0:00:00\u001b[0m\n",
            "\u001b[?25hDownloading nvidia_cuda_runtime_cu12-12.4.127-py3-none-manylinux2014_x86_64.whl (883 kB)\n",
            "\u001b[2K   \u001b[90m━━━━━━━━━━━━━━━━━━━━━━━━━━━━━━━━━━━━━━━━\u001b[0m \u001b[32m883.7/883.7 kB\u001b[0m \u001b[31m57.8 MB/s\u001b[0m eta \u001b[36m0:00:00\u001b[0m\n",
            "\u001b[?25hDownloading nvidia_cudnn_cu12-9.1.0.70-py3-none-manylinux2014_x86_64.whl (664.8 MB)\n",
            "\u001b[2K   \u001b[90m━━━━━━━━━━━━━━━━━━━━━━━━━━━━━━━━━━━━━━━━\u001b[0m \u001b[32m664.8/664.8 MB\u001b[0m \u001b[31m2.9 MB/s\u001b[0m eta \u001b[36m0:00:00\u001b[0m\n",
            "\u001b[?25hDownloading nvidia_cufft_cu12-11.2.1.3-py3-none-manylinux2014_x86_64.whl (211.5 MB)\n",
            "\u001b[2K   \u001b[90m━━━━━━━━━━━━━━━━━━━━━━━━━━━━━━━━━━━━━━━━\u001b[0m \u001b[32m211.5/211.5 MB\u001b[0m \u001b[31m6.0 MB/s\u001b[0m eta \u001b[36m0:00:00\u001b[0m\n",
            "\u001b[?25hDownloading nvidia_curand_cu12-10.3.5.147-py3-none-manylinux2014_x86_64.whl (56.3 MB)\n",
            "\u001b[2K   \u001b[90m━━━━━━━━━━━━━━━━━━━━━━━━━━━━━━━━━━━━━━━━\u001b[0m \u001b[32m56.3/56.3 MB\u001b[0m \u001b[31m13.2 MB/s\u001b[0m eta \u001b[36m0:00:00\u001b[0m\n",
            "\u001b[?25hDownloading nvidia_cusolver_cu12-11.6.1.9-py3-none-manylinux2014_x86_64.whl (127.9 MB)\n",
            "\u001b[2K   \u001b[90m━━━━━━━━━━━━━━━━━━━━━━━━━━━━━━━━━━━━━━━━\u001b[0m \u001b[32m127.9/127.9 MB\u001b[0m \u001b[31m6.9 MB/s\u001b[0m eta \u001b[36m0:00:00\u001b[0m\n",
            "\u001b[?25hDownloading nvidia_cusparse_cu12-12.3.1.170-py3-none-manylinux2014_x86_64.whl (207.5 MB)\n",
            "\u001b[2K   \u001b[90m━━━━━━━━━━━━━━━━━━━━━━━━━━━━━━━━━━━━━━━━\u001b[0m \u001b[32m207.5/207.5 MB\u001b[0m \u001b[31m6.1 MB/s\u001b[0m eta \u001b[36m0:00:00\u001b[0m\n",
            "\u001b[?25hDownloading nvidia_nvjitlink_cu12-12.4.127-py3-none-manylinux2014_x86_64.whl (21.1 MB)\n",
            "\u001b[2K   \u001b[90m━━━━━━━━━━━━━━━━━━━━━━━━━━━━━━━━━━━━━━━━\u001b[0m \u001b[32m21.1/21.1 MB\u001b[0m \u001b[31m93.6 MB/s\u001b[0m eta \u001b[36m0:00:00\u001b[0m\n",
            "\u001b[?25hDownloading ultralytics_thop-2.0.14-py3-none-any.whl (26 kB)\n",
            "Installing collected packages: nvidia-nvjitlink-cu12, nvidia-curand-cu12, nvidia-cufft-cu12, nvidia-cuda-runtime-cu12, nvidia-cuda-nvrtc-cu12, nvidia-cuda-cupti-cu12, nvidia-cublas-cu12, nvidia-cusparse-cu12, nvidia-cudnn-cu12, nvidia-cusolver-cu12, ultralytics-thop, ultralytics\n",
            "  Attempting uninstall: nvidia-nvjitlink-cu12\n",
            "    Found existing installation: nvidia-nvjitlink-cu12 12.5.82\n",
            "    Uninstalling nvidia-nvjitlink-cu12-12.5.82:\n",
            "      Successfully uninstalled nvidia-nvjitlink-cu12-12.5.82\n",
            "  Attempting uninstall: nvidia-curand-cu12\n",
            "    Found existing installation: nvidia-curand-cu12 10.3.6.82\n",
            "    Uninstalling nvidia-curand-cu12-10.3.6.82:\n",
            "      Successfully uninstalled nvidia-curand-cu12-10.3.6.82\n",
            "  Attempting uninstall: nvidia-cufft-cu12\n",
            "    Found existing installation: nvidia-cufft-cu12 11.2.3.61\n",
            "    Uninstalling nvidia-cufft-cu12-11.2.3.61:\n",
            "      Successfully uninstalled nvidia-cufft-cu12-11.2.3.61\n",
            "  Attempting uninstall: nvidia-cuda-runtime-cu12\n",
            "    Found existing installation: nvidia-cuda-runtime-cu12 12.5.82\n",
            "    Uninstalling nvidia-cuda-runtime-cu12-12.5.82:\n",
            "      Successfully uninstalled nvidia-cuda-runtime-cu12-12.5.82\n",
            "  Attempting uninstall: nvidia-cuda-nvrtc-cu12\n",
            "    Found existing installation: nvidia-cuda-nvrtc-cu12 12.5.82\n",
            "    Uninstalling nvidia-cuda-nvrtc-cu12-12.5.82:\n",
            "      Successfully uninstalled nvidia-cuda-nvrtc-cu12-12.5.82\n",
            "  Attempting uninstall: nvidia-cuda-cupti-cu12\n",
            "    Found existing installation: nvidia-cuda-cupti-cu12 12.5.82\n",
            "    Uninstalling nvidia-cuda-cupti-cu12-12.5.82:\n",
            "      Successfully uninstalled nvidia-cuda-cupti-cu12-12.5.82\n",
            "  Attempting uninstall: nvidia-cublas-cu12\n",
            "    Found existing installation: nvidia-cublas-cu12 12.5.3.2\n",
            "    Uninstalling nvidia-cublas-cu12-12.5.3.2:\n",
            "      Successfully uninstalled nvidia-cublas-cu12-12.5.3.2\n",
            "  Attempting uninstall: nvidia-cusparse-cu12\n",
            "    Found existing installation: nvidia-cusparse-cu12 12.5.1.3\n",
            "    Uninstalling nvidia-cusparse-cu12-12.5.1.3:\n",
            "      Successfully uninstalled nvidia-cusparse-cu12-12.5.1.3\n",
            "  Attempting uninstall: nvidia-cudnn-cu12\n",
            "    Found existing installation: nvidia-cudnn-cu12 9.3.0.75\n",
            "    Uninstalling nvidia-cudnn-cu12-9.3.0.75:\n",
            "      Successfully uninstalled nvidia-cudnn-cu12-9.3.0.75\n",
            "  Attempting uninstall: nvidia-cusolver-cu12\n",
            "    Found existing installation: nvidia-cusolver-cu12 11.6.3.83\n",
            "    Uninstalling nvidia-cusolver-cu12-11.6.3.83:\n",
            "      Successfully uninstalled nvidia-cusolver-cu12-11.6.3.83\n",
            "Successfully installed nvidia-cublas-cu12-12.4.5.8 nvidia-cuda-cupti-cu12-12.4.127 nvidia-cuda-nvrtc-cu12-12.4.127 nvidia-cuda-runtime-cu12-12.4.127 nvidia-cudnn-cu12-9.1.0.70 nvidia-cufft-cu12-11.2.1.3 nvidia-curand-cu12-10.3.5.147 nvidia-cusolver-cu12-11.6.1.9 nvidia-cusparse-cu12-12.3.1.170 nvidia-nvjitlink-cu12-12.4.127 ultralytics-8.3.140 ultralytics-thop-2.0.14\n"
          ]
        }
      ]
    },
    {
      "cell_type": "code",
      "source": [
        "%cd {HOME}\n",
        "!yolo task=detect mode=predict model=yolov10n.pt conf=0.25 source='https://media.roboflow.com/notebooks/examples/dog.jpeg' save=True\n"
      ],
      "metadata": {
        "colab": {
          "base_uri": "https://localhost:8080/"
        },
        "id": "Ne6DpQFw0O5m",
        "outputId": "3c9ef858-0e9e-4157-ad12-1bdd27720792"
      },
      "execution_count": 3,
      "outputs": [
        {
          "output_type": "stream",
          "name": "stdout",
          "text": [
            "/content\n",
            "Creating new Ultralytics Settings v0.0.6 file ✅ \n",
            "View Ultralytics Settings with 'yolo settings' or at '/root/.config/Ultralytics/settings.json'\n",
            "Update Settings with 'yolo settings key=value', i.e. 'yolo settings runs_dir=path/to/dir'. For help see https://docs.ultralytics.com/quickstart/#ultralytics-settings.\n",
            "Downloading https://github.com/ultralytics/assets/releases/download/v8.3.0/yolov10n.pt to 'yolov10n.pt'...\n",
            "100% 5.59M/5.59M [00:00<00:00, 96.1MB/s]\n",
            "Ultralytics 8.3.140 🚀 Python-3.11.12 torch-2.6.0+cu124 CUDA:0 (Tesla T4, 15095MiB)\n",
            "YOLOv10n summary (fused): 102 layers, 2,299,264 parameters, 0 gradients, 6.7 GFLOPs\n",
            "\n",
            "Downloading https://media.roboflow.com/notebooks/examples/dog.jpeg to 'dog.jpeg'...\n",
            "100% 104k/104k [00:00<00:00, 102MB/s]\n",
            "image 1/1 /content/dog.jpeg: 640x384 1 person, 1 dog, 46.8ms\n",
            "Speed: 39.9ms preprocess, 46.8ms inference, 89.3ms postprocess per image at shape (1, 3, 640, 384)\n",
            "Results saved to \u001b[1mruns/detect/predict\u001b[0m\n",
            "💡 Learn more at https://docs.ultralytics.com/modes/predict\n"
          ]
        }
      ]
    },
    {
      "cell_type": "code",
      "source": [
        "from ultralytics import YOLO\n",
        "model = YOLO(\"/content/yolov8n-face.pt\")\n",
        "model.export(format='tflite', int8=True)"
      ],
      "metadata": {
        "colab": {
          "base_uri": "https://localhost:8080/",
          "height": 1000
        },
        "id": "Xz7qR1q_0aFb",
        "outputId": "519d48dd-8cd7-4ad1-a52c-025a0b4e2fbb"
      },
      "execution_count": 12,
      "outputs": [
        {
          "output_type": "stream",
          "name": "stdout",
          "text": [
            "Ultralytics 8.3.140 🚀 Python-3.11.12 torch-2.6.0+cu124 CPU (Intel Xeon 2.20GHz)\n",
            "WARNING ⚠️ INT8 export requires a missing 'data' arg for calibration. Using default 'data=coco8-pose.yaml'.\n",
            "YOLOv8n-pose summary (fused): 81 layers, 3,078,128 parameters, 0 gradients, 8.3 GFLOPs\n",
            "\n",
            "\u001b[34m\u001b[1mPyTorch:\u001b[0m starting from '/content/yolov8n-face.pt' with input shape (1, 3, 640, 640) BCHW and output shape(s) (1, 20, 8400) (6.1 MB)\n",
            "\n",
            "\u001b[34m\u001b[1mTensorFlow SavedModel:\u001b[0m starting export with tensorflow 2.18.0...\n",
            "\n",
            "\u001b[34m\u001b[1mONNX:\u001b[0m starting export with onnx 1.17.0 opset 19...\n",
            "\u001b[34m\u001b[1mONNX:\u001b[0m slimming with onnxslim 0.1.53...\n",
            "\u001b[34m\u001b[1mONNX:\u001b[0m export success ✅ 2.0s, saved as '/content/yolov8n-face.onnx' (12.2 MB)\n",
            "\u001b[34m\u001b[1mTensorFlow SavedModel:\u001b[0m collecting INT8 calibration images from 'data=coco8-pose.yaml'\n",
            "\n",
            "WARNING ⚠️ Dataset 'coco8-pose.yaml' images not found, missing path '/content/datasets/coco8-pose/images/val'\n",
            "Downloading https://ultralytics.com/assets/coco8-pose.zip to '/content/datasets/coco8-pose.zip'...\n"
          ]
        },
        {
          "output_type": "stream",
          "name": "stderr",
          "text": [
            "100%|██████████| 334k/334k [00:00<00:00, 10.6MB/s]\n",
            "Unzipping /content/datasets/coco8-pose.zip to /content/datasets/coco8-pose...: 100%|██████████| 27/27 [00:00<00:00, 4326.34file/s]"
          ]
        },
        {
          "output_type": "stream",
          "name": "stdout",
          "text": [
            "Dataset download success ✅ (0.7s), saved to \u001b[1m/content/datasets\u001b[0m\n",
            "\n",
            "Fast image access ✅ (ping: 0.0±0.0 ms, read: 900.3±378.7 MB/s, size: 39.1 KB)\n"
          ]
        },
        {
          "output_type": "stream",
          "name": "stderr",
          "text": [
            "\n",
            "Scanning /content/datasets/coco8-pose/labels/val... 4 images, 0 backgrounds, 0 corrupt: 100%|██████████| 4/4 [00:00<00:00, 1275.25it/s]"
          ]
        },
        {
          "output_type": "stream",
          "name": "stdout",
          "text": [
            "New cache created: /content/datasets/coco8-pose/labels/val.cache\n",
            "WARNING ⚠️ \u001b[34m\u001b[1mTensorFlow SavedModel:\u001b[0m >300 images recommended for INT8 calibration, found 4 images.\n"
          ]
        },
        {
          "output_type": "stream",
          "name": "stderr",
          "text": [
            "\n"
          ]
        },
        {
          "output_type": "stream",
          "name": "stdout",
          "text": [
            "\u001b[34m\u001b[1mTensorFlow SavedModel:\u001b[0m starting TFLite export with onnx2tf 1.27.9...\n",
            "Saved artifact at '/content/yolov8n-face_saved_model'. The following endpoints are available:\n",
            "\n",
            "* Endpoint 'serving_default'\n",
            "  inputs_0 (POSITIONAL_ONLY): TensorSpec(shape=(1, 640, 640, 3), dtype=tf.float32, name='images')\n",
            "Output Type:\n",
            "  TensorSpec(shape=(1, 20, 8400), dtype=tf.float32, name=None)\n",
            "Captures:\n",
            "  138215476777360: TensorSpec(shape=(4, 2), dtype=tf.int32, name=None)\n",
            "  138215476778320: TensorSpec(shape=(3, 3, 3, 16), dtype=tf.float32, name=None)\n",
            "  138215476780816: TensorSpec(shape=(16,), dtype=tf.float32, name=None)\n",
            "  138215476779280: TensorSpec(shape=(4, 2), dtype=tf.int32, name=None)\n",
            "  138215476776400: TensorSpec(shape=(3, 3, 16, 32), dtype=tf.float32, name=None)\n",
            "  138215476777744: TensorSpec(shape=(32,), dtype=tf.float32, name=None)\n",
            "  138215476778896: TensorSpec(shape=(1, 1, 32, 32), dtype=tf.float32, name=None)\n",
            "  138215476779664: TensorSpec(shape=(32,), dtype=tf.float32, name=None)\n",
            "  138215476778128: TensorSpec(shape=(4,), dtype=tf.int64, name=None)\n",
            "  138215476781392: TensorSpec(shape=(4,), dtype=tf.int64, name=None)\n",
            "  138215476783888: TensorSpec(shape=(3, 3, 16, 16), dtype=tf.float32, name=None)\n",
            "  138215476785232: TensorSpec(shape=(16,), dtype=tf.float32, name=None)\n",
            "  138215476783120: TensorSpec(shape=(3, 3, 16, 16), dtype=tf.float32, name=None)\n",
            "  138215476783312: TensorSpec(shape=(16,), dtype=tf.float32, name=None)\n",
            "  138215476773904: TensorSpec(shape=(4,), dtype=tf.int64, name=None)\n",
            "  138215476782736: TensorSpec(shape=(4,), dtype=tf.int64, name=None)\n",
            "  138215476785424: TensorSpec(shape=(1, 1, 48, 32), dtype=tf.float32, name=None)\n",
            "  138215476785616: TensorSpec(shape=(32,), dtype=tf.float32, name=None)\n",
            "  138215476784656: TensorSpec(shape=(4, 2), dtype=tf.int32, name=None)\n",
            "  138215476784080: TensorSpec(shape=(3, 3, 32, 64), dtype=tf.float32, name=None)\n",
            "  138215476784464: TensorSpec(shape=(64,), dtype=tf.float32, name=None)\n",
            "  138215476785808: TensorSpec(shape=(1, 1, 64, 64), dtype=tf.float32, name=None)\n",
            "  138215476786192: TensorSpec(shape=(64,), dtype=tf.float32, name=None)\n",
            "  138215476786768: TensorSpec(shape=(4,), dtype=tf.int64, name=None)\n",
            "  138215476786576: TensorSpec(shape=(4,), dtype=tf.int64, name=None)\n",
            "  138215476787536: TensorSpec(shape=(3, 3, 32, 32), dtype=tf.float32, name=None)\n",
            "  138215476788880: TensorSpec(shape=(32,), dtype=tf.float32, name=None)\n",
            "  138215476786384: TensorSpec(shape=(3, 3, 32, 32), dtype=tf.float32, name=None)\n",
            "  138215476786000: TensorSpec(shape=(32,), dtype=tf.float32, name=None)\n",
            "  138215476775440: TensorSpec(shape=(3, 3, 32, 32), dtype=tf.float32, name=None)\n",
            "  138215476789072: TensorSpec(shape=(32,), dtype=tf.float32, name=None)\n",
            "  138215476787728: TensorSpec(shape=(3, 3, 32, 32), dtype=tf.float32, name=None)\n",
            "  138215476788304: TensorSpec(shape=(32,), dtype=tf.float32, name=None)\n",
            "  138215476786960: TensorSpec(shape=(4,), dtype=tf.int64, name=None)\n",
            "  138215476787152: TensorSpec(shape=(4,), dtype=tf.int64, name=None)\n",
            "  138215476772944: TensorSpec(shape=(1, 1, 128, 64), dtype=tf.float32, name=None)\n",
            "  138215476774288: TensorSpec(shape=(64,), dtype=tf.float32, name=None)\n",
            "  138215476773520: TensorSpec(shape=(4, 2), dtype=tf.int32, name=None)\n",
            "  138215476788112: TensorSpec(shape=(3, 3, 64, 128), dtype=tf.float32, name=None)\n",
            "  138215485390928: TensorSpec(shape=(128,), dtype=tf.float32, name=None)\n",
            "  138215485392272: TensorSpec(shape=(1, 1, 128, 128), dtype=tf.float32, name=None)\n",
            "  138215485391504: TensorSpec(shape=(128,), dtype=tf.float32, name=None)\n",
            "  138215485391888: TensorSpec(shape=(4,), dtype=tf.int64, name=None)\n",
            "  138215485393808: TensorSpec(shape=(4,), dtype=tf.int64, name=None)\n",
            "  138215485394000: TensorSpec(shape=(3, 3, 64, 64), dtype=tf.float32, name=None)\n",
            "  138215485394960: TensorSpec(shape=(64,), dtype=tf.float32, name=None)\n",
            "  138215485392848: TensorSpec(shape=(3, 3, 64, 64), dtype=tf.float32, name=None)\n",
            "  138215485391312: TensorSpec(shape=(64,), dtype=tf.float32, name=None)\n",
            "  138215485395536: TensorSpec(shape=(3, 3, 64, 64), dtype=tf.float32, name=None)\n",
            "  138215485395152: TensorSpec(shape=(64,), dtype=tf.float32, name=None)\n",
            "  138215485391120: TensorSpec(shape=(3, 3, 64, 64), dtype=tf.float32, name=None)\n",
            "  138215485394576: TensorSpec(shape=(64,), dtype=tf.float32, name=None)\n",
            "  138215485391696: TensorSpec(shape=(4,), dtype=tf.int64, name=None)\n",
            "  138215485394384: TensorSpec(shape=(4,), dtype=tf.int64, name=None)\n",
            "  138215485397072: TensorSpec(shape=(1, 1, 256, 128), dtype=tf.float32, name=None)\n",
            "  138215485395344: TensorSpec(shape=(128,), dtype=tf.float32, name=None)\n",
            "  138215485396496: TensorSpec(shape=(4, 2), dtype=tf.int32, name=None)\n",
            "  138215485393616: TensorSpec(shape=(3, 3, 128, 256), dtype=tf.float32, name=None)\n",
            "  138215485395728: TensorSpec(shape=(256,), dtype=tf.float32, name=None)\n",
            "  138215485398416: TensorSpec(shape=(1, 1, 256, 256), dtype=tf.float32, name=None)\n",
            "  138215485400528: TensorSpec(shape=(256,), dtype=tf.float32, name=None)\n",
            "  138215485397840: TensorSpec(shape=(4,), dtype=tf.int64, name=None)\n",
            "  138215485398032: TensorSpec(shape=(4,), dtype=tf.int64, name=None)\n",
            "  138215485398224: TensorSpec(shape=(3, 3, 128, 128), dtype=tf.float32, name=None)\n",
            "  138215485396880: TensorSpec(shape=(128,), dtype=tf.float32, name=None)\n",
            "  138215485398800: TensorSpec(shape=(3, 3, 128, 128), dtype=tf.float32, name=None)\n",
            "  138215485395920: TensorSpec(shape=(128,), dtype=tf.float32, name=None)\n",
            "  138215485398992: TensorSpec(shape=(4,), dtype=tf.int64, name=None)\n",
            "  138215485397648: TensorSpec(shape=(4,), dtype=tf.int64, name=None)\n",
            "  138215485397456: TensorSpec(shape=(1, 1, 384, 256), dtype=tf.float32, name=None)\n",
            "  138215485398608: TensorSpec(shape=(256,), dtype=tf.float32, name=None)\n",
            "  138215485400144: TensorSpec(shape=(1, 1, 256, 128), dtype=tf.float32, name=None)\n",
            "  138215485400720: TensorSpec(shape=(128,), dtype=tf.float32, name=None)\n",
            "  138215485393424: TensorSpec(shape=(1, 1, 512, 256), dtype=tf.float32, name=None)\n",
            "  138215485396688: TensorSpec(shape=(256,), dtype=tf.float32, name=None)\n",
            "  138215485392656: TensorSpec(shape=(2,), dtype=tf.int32, name=None)\n",
            "  138215485393232: TensorSpec(shape=(1, 1, 384, 128), dtype=tf.float32, name=None)\n",
            "  138215485392080: TensorSpec(shape=(128,), dtype=tf.float32, name=None)\n",
            "  138215666403088: TensorSpec(shape=(4,), dtype=tf.int64, name=None)\n",
            "  138215666401360: TensorSpec(shape=(4,), dtype=tf.int64, name=None)\n",
            "  138215485397264: TensorSpec(shape=(3, 3, 64, 64), dtype=tf.float32, name=None)\n",
            "  138215666401936: TensorSpec(shape=(64,), dtype=tf.float32, name=None)\n",
            "  138215666401552: TensorSpec(shape=(3, 3, 64, 64), dtype=tf.float32, name=None)\n",
            "  138215666402320: TensorSpec(shape=(64,), dtype=tf.float32, name=None)\n",
            "  138215666401744: TensorSpec(shape=(4,), dtype=tf.int64, name=None)\n",
            "  138215666402896: TensorSpec(shape=(4,), dtype=tf.int64, name=None)\n",
            "  138215666402704: TensorSpec(shape=(1, 1, 192, 128), dtype=tf.float32, name=None)\n",
            "  138214964846736: TensorSpec(shape=(128,), dtype=tf.float32, name=None)\n",
            "  138214964850768: TensorSpec(shape=(2,), dtype=tf.int32, name=None)\n",
            "  138214964850192: TensorSpec(shape=(1, 1, 192, 64), dtype=tf.float32, name=None)\n",
            "  138214964850000: TensorSpec(shape=(64,), dtype=tf.float32, name=None)\n",
            "  138214964854224: TensorSpec(shape=(4,), dtype=tf.int64, name=None)\n",
            "  138214964853648: TensorSpec(shape=(4,), dtype=tf.int64, name=None)\n",
            "  138214964853072: TensorSpec(shape=(3, 3, 32, 32), dtype=tf.float32, name=None)\n",
            "  138214964853264: TensorSpec(shape=(32,), dtype=tf.float32, name=None)\n",
            "  138214964845392: TensorSpec(shape=(3, 3, 32, 32), dtype=tf.float32, name=None)\n",
            "  138214964851920: TensorSpec(shape=(32,), dtype=tf.float32, name=None)\n",
            "  138214964854032: TensorSpec(shape=(4,), dtype=tf.int64, name=None)\n",
            "  138214964850576: TensorSpec(shape=(4,), dtype=tf.int64, name=None)\n",
            "  138214964849232: TensorSpec(shape=(1, 1, 96, 64), dtype=tf.float32, name=None)\n",
            "  138214964850960: TensorSpec(shape=(64,), dtype=tf.float32, name=None)\n",
            "  138214964852880: TensorSpec(shape=(4, 2), dtype=tf.int32, name=None)\n",
            "  138214964853840: TensorSpec(shape=(3, 3, 64, 64), dtype=tf.float32, name=None)\n",
            "  138214964851536: TensorSpec(shape=(64,), dtype=tf.float32, name=None)\n",
            "  138214964840208: TensorSpec(shape=(1, 1, 192, 128), dtype=tf.float32, name=None)\n",
            "  138214964848272: TensorSpec(shape=(128,), dtype=tf.float32, name=None)\n",
            "  138214964846928: TensorSpec(shape=(4,), dtype=tf.int64, name=None)\n",
            "  138214964841744: TensorSpec(shape=(4,), dtype=tf.int64, name=None)\n",
            "  138214964847696: TensorSpec(shape=(3, 3, 64, 64), dtype=tf.float32, name=None)\n",
            "  138214964844240: TensorSpec(shape=(64,), dtype=tf.float32, name=None)\n",
            "  138214964847504: TensorSpec(shape=(3, 3, 64, 64), dtype=tf.float32, name=None)\n",
            "  138214964844624: TensorSpec(shape=(64,), dtype=tf.float32, name=None)\n",
            "  138214964845008: TensorSpec(shape=(4,), dtype=tf.int64, name=None)\n",
            "  138214964841936: TensorSpec(shape=(4,), dtype=tf.int64, name=None)\n",
            "  138214964844432: TensorSpec(shape=(1, 1, 192, 128), dtype=tf.float32, name=None)\n",
            "  138214964843088: TensorSpec(shape=(128,), dtype=tf.float32, name=None)\n",
            "  138214964843280: TensorSpec(shape=(4, 2), dtype=tf.int32, name=None)\n",
            "  138214964847120: TensorSpec(shape=(3, 3, 128, 128), dtype=tf.float32, name=None)\n",
            "  138214964847312: TensorSpec(shape=(128,), dtype=tf.float32, name=None)\n",
            "  138214964838480: TensorSpec(shape=(1, 1, 384, 256), dtype=tf.float32, name=None)\n",
            "  138214964839440: TensorSpec(shape=(256,), dtype=tf.float32, name=None)\n",
            "  138215639197520: TensorSpec(shape=(4,), dtype=tf.int64, name=None)\n",
            "  138215639201168: TensorSpec(shape=(4,), dtype=tf.int64, name=None)\n",
            "  138215639202320: TensorSpec(shape=(3, 3, 128, 128), dtype=tf.float32, name=None)\n",
            "  138215639201744: TensorSpec(shape=(128,), dtype=tf.float32, name=None)\n",
            "  138215639199824: TensorSpec(shape=(3, 3, 128, 128), dtype=tf.float32, name=None)\n",
            "  138215639203280: TensorSpec(shape=(128,), dtype=tf.float32, name=None)\n",
            "  138215639201360: TensorSpec(shape=(4,), dtype=tf.int64, name=None)\n",
            "  138215639199632: TensorSpec(shape=(4,), dtype=tf.int64, name=None)\n",
            "  138215639201936: TensorSpec(shape=(1, 1, 384, 256), dtype=tf.float32, name=None)\n",
            "  138215639202128: TensorSpec(shape=(256,), dtype=tf.float32, name=None)\n",
            "  138215448035408: TensorSpec(shape=(3, 3, 256, 64), dtype=tf.float32, name=None)\n",
            "  138215639203664: TensorSpec(shape=(3, 3, 256, 64), dtype=tf.float32, name=None)\n",
            "  138214964840976: TensorSpec(shape=(3, 3, 128, 64), dtype=tf.float32, name=None)\n",
            "  138214964842320: TensorSpec(shape=(3, 3, 128, 64), dtype=tf.float32, name=None)\n",
            "  138214964843664: TensorSpec(shape=(3, 3, 64, 64), dtype=tf.float32, name=None)\n",
            "  138214964850384: TensorSpec(shape=(3, 3, 64, 64), dtype=tf.float32, name=None)\n",
            "  138215448035600: TensorSpec(shape=(64,), dtype=tf.float32, name=None)\n",
            "  138215639203088: TensorSpec(shape=(64,), dtype=tf.float32, name=None)\n",
            "  138214964841360: TensorSpec(shape=(64,), dtype=tf.float32, name=None)\n",
            "  138214964842512: TensorSpec(shape=(64,), dtype=tf.float32, name=None)\n",
            "  138214964848656: TensorSpec(shape=(64,), dtype=tf.float32, name=None)\n",
            "  138214964843856: TensorSpec(shape=(64,), dtype=tf.float32, name=None)\n",
            "  138215448036560: TensorSpec(shape=(3, 3, 64, 64), dtype=tf.float32, name=None)\n",
            "  138215448035792: TensorSpec(shape=(3, 3, 64, 64), dtype=tf.float32, name=None)\n",
            "  138214964841552: TensorSpec(shape=(3, 3, 64, 64), dtype=tf.float32, name=None)\n",
            "  138214964839248: TensorSpec(shape=(3, 3, 64, 64), dtype=tf.float32, name=None)\n",
            "  138214964848464: TensorSpec(shape=(3, 3, 64, 64), dtype=tf.float32, name=None)\n",
            "  138214964843472: TensorSpec(shape=(3, 3, 64, 64), dtype=tf.float32, name=None)\n",
            "  138215448036752: TensorSpec(shape=(64,), dtype=tf.float32, name=None)\n",
            "  138215448036176: TensorSpec(shape=(64,), dtype=tf.float32, name=None)\n",
            "  138214964838672: TensorSpec(shape=(64,), dtype=tf.float32, name=None)\n",
            "  138214964841168: TensorSpec(shape=(64,), dtype=tf.float32, name=None)\n",
            "  138214964842896: TensorSpec(shape=(64,), dtype=tf.float32, name=None)\n",
            "  138214964848848: TensorSpec(shape=(64,), dtype=tf.float32, name=None)\n",
            "  138215639200208: TensorSpec(shape=(3, 3, 256, 16), dtype=tf.float32, name=None)\n",
            "  138214964839056: TensorSpec(shape=(3, 3, 128, 16), dtype=tf.float32, name=None)\n",
            "  138214964851728: TensorSpec(shape=(3, 3, 64, 16), dtype=tf.float32, name=None)\n",
            "  138215639203472: TensorSpec(shape=(16,), dtype=tf.float32, name=None)\n",
            "  138214964844816: TensorSpec(shape=(16,), dtype=tf.float32, name=None)\n",
            "  138214964849808: TensorSpec(shape=(16,), dtype=tf.float32, name=None)\n",
            "  138215448037712: TensorSpec(shape=(1, 1, 64, 1), dtype=tf.float32, name=None)\n",
            "  138215448036944: TensorSpec(shape=(1, 1, 64, 64), dtype=tf.float32, name=None)\n",
            "  138215639199248: TensorSpec(shape=(1, 1, 64, 1), dtype=tf.float32, name=None)\n",
            "  138214964849616: TensorSpec(shape=(1, 1, 64, 64), dtype=tf.float32, name=None)\n",
            "  138214964847888: TensorSpec(shape=(1, 1, 64, 1), dtype=tf.float32, name=None)\n",
            "  138214964842128: TensorSpec(shape=(1, 1, 64, 64), dtype=tf.float32, name=None)\n",
            "  138215448037328: TensorSpec(shape=(64,), dtype=tf.float32, name=None)\n",
            "  138215448037904: TensorSpec(shape=(1,), dtype=tf.float32, name=None)\n",
            "  138214964852112: TensorSpec(shape=(64,), dtype=tf.float32, name=None)\n",
            "  138215639200592: TensorSpec(shape=(1,), dtype=tf.float32, name=None)\n",
            "  138214964848080: TensorSpec(shape=(64,), dtype=tf.float32, name=None)\n",
            "  138214964839632: TensorSpec(shape=(1,), dtype=tf.float32, name=None)\n",
            "  138215448036368: TensorSpec(shape=(3, 3, 16, 16), dtype=tf.float32, name=None)\n",
            "  138214964838864: TensorSpec(shape=(3, 3, 16, 16), dtype=tf.float32, name=None)\n",
            "  138214964844048: TensorSpec(shape=(3, 3, 16, 16), dtype=tf.float32, name=None)\n",
            "  138215448035984: TensorSpec(shape=(16,), dtype=tf.float32, name=None)\n",
            "  138214964840400: TensorSpec(shape=(16,), dtype=tf.float32, name=None)\n",
            "  138214964849040: TensorSpec(shape=(16,), dtype=tf.float32, name=None)\n",
            "  138215448038288: TensorSpec(shape=(3,), dtype=tf.int64, name=None)\n",
            "  138215448040208: TensorSpec(shape=(3,), dtype=tf.int64, name=None)\n",
            "  138215448037520: TensorSpec(shape=(1, 1, 16, 15), dtype=tf.float32, name=None)\n",
            "  138214964852496: TensorSpec(shape=(1, 1, 16, 15), dtype=tf.float32, name=None)\n",
            "  138214964846352: TensorSpec(shape=(1, 1, 16, 15), dtype=tf.float32, name=None)\n",
            "  138215448037136: TensorSpec(shape=(15,), dtype=tf.float32, name=None)\n",
            "  138214964853456: TensorSpec(shape=(15,), dtype=tf.float32, name=None)\n",
            "  138214964842704: TensorSpec(shape=(15,), dtype=tf.float32, name=None)\n",
            "  138215448042128: TensorSpec(shape=(1, 1, 16, 1), dtype=tf.float32, name=None)\n",
            "  138215448039056: TensorSpec(shape=(4,), dtype=tf.int64, name=None)\n",
            "  138215448039824: TensorSpec(shape=(4,), dtype=tf.int64, name=None)\n",
            "  138215448041936: TensorSpec(shape=(1, 1, 2, 8400), dtype=tf.float32, name=None)\n",
            "  138215448041360: TensorSpec(shape=(1, 4, 8400), dtype=tf.float32, name=None)\n",
            "  138215448038096: TensorSpec(shape=(4,), dtype=tf.int64, name=None)\n",
            "  138215448039440: TensorSpec(shape=(4,), dtype=tf.int64, name=None)\n",
            "  138215448044432: TensorSpec(shape=(3,), dtype=tf.int64, name=None)\n",
            "  138215448042512: TensorSpec(shape=(3,), dtype=tf.int64, name=None)\n",
            "  138215448040592: TensorSpec(shape=(3,), dtype=tf.int64, name=None)\n",
            "  138215448042896: TensorSpec(shape=(3,), dtype=tf.int64, name=None)\n",
            "  138215448043088: TensorSpec(shape=(1, 2, 8400), dtype=tf.float32, name=None)\n",
            "  138215448041168: TensorSpec(shape=(1, 2, 8400), dtype=tf.float32, name=None)\n",
            "  138215448038864: TensorSpec(shape=(3,), dtype=tf.int64, name=None)\n",
            "  138215448038480: TensorSpec(shape=(3,), dtype=tf.int64, name=None)\n",
            "\n",
            "\n",
            "\u001b[34m\u001b[1mTensorFlow SavedModel:\u001b[0m export success ✅ 74.8s, saved as '/content/yolov8n-face_saved_model' (40.4 MB)\n",
            "\n",
            "\u001b[34m\u001b[1mTensorFlow Lite:\u001b[0m starting export with tensorflow 2.18.0...\n",
            "\u001b[34m\u001b[1mTensorFlow Lite:\u001b[0m export success ✅ 0.0s, saved as '/content/yolov8n-face_saved_model/yolov8n-face_int8.tflite' (3.4 MB)\n",
            "\n",
            "Export complete (75.4s)\n",
            "Results saved to \u001b[1m/content\u001b[0m\n",
            "Predict:         yolo predict task=pose model=/content/yolov8n-face_saved_model/yolov8n-face_int8.tflite imgsz=640 int8 \n",
            "Validate:        yolo val task=pose model=/content/yolov8n-face_saved_model/yolov8n-face_int8.tflite imgsz=640 data=/ssd2t/derron/ultralytics/ultralytics/datasets/widerface.yaml int8 \n",
            "Visualize:       https://netron.app\n"
          ]
        },
        {
          "output_type": "execute_result",
          "data": {
            "text/plain": [
              "'/content/yolov8n-face_saved_model/yolov8n-face_int8.tflite'"
            ],
            "application/vnd.google.colaboratory.intrinsic+json": {
              "type": "string"
            }
          },
          "metadata": {},
          "execution_count": 12
        }
      ]
    },
    {
      "cell_type": "code",
      "source": [
        "from ultralytics import YOLO\n",
        "model = YOLO(\"/content/yolov8n.pt\")\n",
        "model.export(format='tflite', int8=True)"
      ],
      "metadata": {
        "id": "tjIRGVzKmCsc"
      },
      "execution_count": null,
      "outputs": []
    },
    {
      "cell_type": "code",
      "source": [
        "from ultralytics import YOLO\n",
        "model = YOLO(\"/content/yolov10n.pt\")\n",
        "model.export(format='tflite')"
      ],
      "metadata": {
        "id": "3SFYOgpJmFGU"
      },
      "execution_count": null,
      "outputs": []
    }
  ]
}